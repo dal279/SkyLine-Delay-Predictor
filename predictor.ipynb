{
 "cells": [
  {
   "cell_type": "markdown",
   "metadata": {},
   "source": [
    "# ✈️ SkyLine-Delay Predictor\n",
    "\n",
    "This notebook reproduces the functionality of `predictor.py`.  Each function is defined in its own cell, and at the end you can load the data, train the model, and run a prediction."
   ]
  },
  {
   "cell_type": "code",
   "execution_count": 2,
   "metadata": {},
   "outputs": [],
   "source": [
    "# 1. Imports\n",
    "\n",
    "import glob\n",
    "import datetime as dt\n",
    "from pathlib import Path\n",
    "\n",
    "import numpy as np\n",
    "import pandas as pd\n",
    "from sklearn.linear_model import LinearRegression"
   ]
  },
  {
   "cell_type": "code",
   "execution_count": 3,
   "metadata": {},
   "outputs": [],
   "source": [
    "# 2. Constants\n",
    "\n",
    "CSV_GLOB_PATTERN = \"**/*-*2024.csv\"  # search everywhere for 2024 CSVs\n",
    "\n",
    "COLS = [\n",
    "    \"carrier\", \"date\", \"flight_num\", \"tail_num\", \"dest\", \"crs_dep_time\",\n",
    "    \"dep_time\", \"dep_delay\", \"carrier_delay\", \"weather_delay\", \"nas_delay\",\n",
    "    \"security_delay\", \"late_aircraft_delay\",\n",
    "]"
   ]
  },
  {
   "cell_type": "code",
   "execution_count": 4,
   "metadata": {},
   "outputs": [],
   "source": [
    "# 3. Data Loading Function\n",
    "\n",
    "@pd.api.extensions.register_dataframe_accessor(\"skyline\")\n",
    "class _SkylineLoader:\n",
    "    \"\"\"Namespace to hide helper methods if you like—optional.\"\"\"\n",
    "    def __init__(self, pandas_obj):\n",
    "        self._df = pandas_obj\n",
    "\n",
    "def load_and_merge() -> pd.DataFrame:\n",
    "    \"\"\"\n",
    "    Recursively find all '*-<airport>2024.csv' files,\n",
    "    read them into DataFrames, clean & parse, and return one concatenated DataFrame.\n",
    "    \"\"\"\n",
    "    frames = []\n",
    "    for fp in glob.glob(CSV_GLOB_PATTERN, recursive=True):\n",
    "        if not fp.lower().endswith(\".csv\"):\n",
    "            continue\n",
    "        df = pd.read_csv(fp, header=None, names=COLS, dtype=str)\n",
    "        df[\"airport\"] = Path(fp).stem.split(\"-\")[1][:3]\n",
    "        frames.append(df)\n",
    "\n",
    "    if not frames:\n",
    "        raise FileNotFoundError(\"No CSV files like `AA-EWR2024.csv` found.\")\n",
    "\n",
    "    data = pd.concat(frames, ignore_index=True)\n",
    "\n",
    "    # Clean & parse\n",
    "    data[\"date\"] = pd.to_datetime(data[\"date\"], format=\"%m/%d/%Y\", errors=\"coerce\")\n",
    "    data = data.dropna(subset=[\"date\"])\n",
    "\n",
    "    num_cols = [\n",
    "        \"dep_delay\", \"carrier_delay\", \"weather_delay\", \"nas_delay\",\n",
    "        \"security_delay\", \"late_aircraft_delay\"\n",
    "    ]\n",
    "    data[num_cols] = data[num_cols].apply(pd.to_numeric, errors=\"coerce\")\n",
    "    data = data.dropna(subset=[\"dep_delay\"])\n",
    "\n",
    "    data[\"day_of_year\"] = data[\"date\"].dt.dayofyear\n",
    "    return data"
   ]
  },
  {
   "cell_type": "code",
   "execution_count": 5,
   "metadata": {},
   "outputs": [],
   "source": [
    "# 4. Model-Training Function\n",
    "\n",
    "def train_model(df: pd.DataFrame):\n",
    "    \"\"\"\n",
    "    Given the cleaned DataFrame, one-hot encode carrier & airport,\n",
    "    combine with numeric features, train a LinearRegression, and\n",
    "    return the fitted model plus the feature ordering.\n",
    "    \"\"\"\n",
    "    X_cat = pd.get_dummies(\n",
    "        df[[\"carrier\", \"airport\"]],\n",
    "        prefix=[\"airline\", \"airport\"],\n",
    "        drop_first=False\n",
    "    )\n",
    "    X_num = df[[\n",
    "        \"day_of_year\", \"carrier_delay\", \"weather_delay\", \"nas_delay\",\n",
    "        \"security_delay\", \"late_aircraft_delay\"\n",
    "    ]]\n",
    "    X = pd.concat([X_cat, X_num], axis=1)\n",
    "    y = df[\"dep_delay\"].astype(float)\n",
    "\n",
    "    model = LinearRegression().fit(X, y)\n",
    "    return model, X.columns.tolist()"
   ]
  },
  {
   "cell_type": "code",
   "execution_count": 6,
   "metadata": {},
   "outputs": [],
   "source": [
    "# 5. Helper for Typical Components\n",
    "\n",
    "def typical_components(\n",
    "    df: pd.DataFrame,\n",
    "    carrier: str,\n",
    "    airport: str\n",
    ") -> pd.Series:\n",
    "    \"\"\"\n",
    "    Compute the historical mean of the five delay-component columns\n",
    "    for a given carrier & airport.  Falls back to carrier-only or global\n",
    "    if needed.\n",
    "    \"\"\"\n",
    "    subset = df[(df.carrier == carrier) & (df.airport == airport)]\n",
    "    if subset.empty:\n",
    "        subset = df[df.carrier == carrier]\n",
    "    if subset.empty:\n",
    "        subset = df\n",
    "    return subset[[\n",
    "        \"carrier_delay\", \"weather_delay\", \"nas_delay\",\n",
    "        \"security_delay\", \"late_aircraft_delay\"\n",
    "    ]].mean()"
   ]
  },
  {
   "cell_type": "code",
   "execution_count": 7,
   "metadata": {},
   "outputs": [],
   "source": [
    "# 6. Prediction Function\n",
    "\n",
    "def predict_delay(\n",
    "    model,\n",
    "    feature_order: list[str],\n",
    "    date_choice: dt.date,\n",
    "    airline: str,\n",
    "    airport: str,\n",
    "    carrier_d: float,\n",
    "    weather_d: float,\n",
    "    nas_d: float,\n",
    "    security_d: float,\n",
    "    late_d: float\n",
    ") -> float:\n",
    "    \"\"\"\n",
    "    Build a one-row feature vector based on inputs and return\n",
    "    the model's predicted departure delay (in minutes).\n",
    "    \"\"\"\n",
    "    feat = {col: 0 for col in feature_order}\n",
    "    feat[f\"airline_{airline}\"] = 1\n",
    "    feat[f\"airport_{airport}\"] = 1\n",
    "    feat[\"day_of_year\"] = pd.Timestamp(date_choice).dayofyear\n",
    "    feat.update({\n",
    "        \"carrier_delay\": carrier_d,\n",
    "        \"weather_delay\": weather_d,\n",
    "        \"nas_delay\": nas_d,\n",
    "        \"security_delay\": security_d,\n",
    "        \"late_aircraft_delay\": late_d,\n",
    "    })\n",
    "\n",
    "    X_pred = pd.DataFrame([feat])[feature_order]\n",
    "    return float(model.predict(X_pred)[0])"
   ]
  },
  {
   "cell_type": "code",
   "execution_count": 8,
   "metadata": {},
   "outputs": [
    {
     "name": "stdout",
     "output_type": "stream",
     "text": [
      "Loaded 153,702 rows; model ready.\n"
     ]
    }
   ],
   "source": [
    "# 7. Load data and train\n",
    "\n",
    "data = load_and_merge()\n",
    "model, FEATURE_ORDER = train_model(data)\n",
    "print(f\"Loaded {len(data):,} rows; model ready.\")"
   ]
  },
  {
   "cell_type": "code",
   "execution_count": 9,
   "metadata": {},
   "outputs": [
    {
     "name": "stdout",
     "output_type": "stream",
     "text": [
      "Typical component delays (mins):\n",
      "{'carrier_delay': 4.636238279095422, 'weather_delay': 0.8277027027027027, 'nas_delay': 3.478350799779371, 'security_delay': 0.02840595697738555, 'late_aircraft_delay': 5.967388306674021}\n",
      "\n",
      "Predicted departure delay for AA at JFK on 2025-05-06: 12.5 minutes\n"
     ]
    }
   ],
   "source": [
    "# 8. Example Usage\n",
    "\n",
    "# Choose an airline & airport:\n",
    "airline = \"AA\"     # e.g. \"AA\", \"B6\", \"DL\", ...\n",
    "airport = \"JFK\"    # three-letter code from your CSVs\n",
    "\n",
    "# Choose a date (can be outside 2024):\n",
    "date_choice = dt.date.today()\n",
    "\n",
    "# Get defaults:\n",
    "defaults = typical_components(data, airline, airport)\n",
    "print(\"Typical component delays (mins):\")\n",
    "print(defaults.to_dict())\n",
    "\n",
    "# Predict:\n",
    "pred = predict_delay(\n",
    "    model, FEATURE_ORDER, date_choice, airline, airport,\n",
    "    defaults[\"carrier_delay\"],\n",
    "    defaults[\"weather_delay\"],\n",
    "    defaults[\"nas_delay\"],\n",
    "    defaults[\"security_delay\"],\n",
    "    defaults[\"late_aircraft_delay\"]\n",
    ")\n",
    "print(f\"\\nPredicted departure delay for {airline} at {airport} on {date_choice}: {pred:.1f} minutes\")"
   ]
  },
  {
   "cell_type": "code",
   "execution_count": null,
   "metadata": {},
   "outputs": [],
   "source": []
  }
 ],
 "metadata": {
  "kernelspec": {
   "display_name": "Python 3",
   "language": "python",
   "name": "python3"
  },
  "language_info": {
   "codemirror_mode": {
    "name": "ipython",
    "version": 3
   },
   "file_extension": ".py",
   "mimetype": "text/x-python",
   "name": "python",
   "nbconvert_exporter": "python",
   "pygments_lexer": "ipython3",
   "version": "3.9.6"
  }
 },
 "nbformat": 4,
 "nbformat_minor": 2
}
